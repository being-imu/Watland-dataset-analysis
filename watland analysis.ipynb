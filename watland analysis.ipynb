{
  "cells": [
    {
      "cell_type": "markdown",
      "metadata": {
        "id": "view-in-github",
        "colab_type": "text"
      },
      "source": [
        "<a href=\"https://colab.research.google.com/github/being-imu/Watland-dataset-analysis/blob/main/watland%20analysis.ipynb\" target=\"_parent\"><img src=\"https://colab.research.google.com/assets/colab-badge.svg\" alt=\"Open In Colab\"/></a>"
      ]
    },
    {
      "cell_type": "markdown",
      "metadata": {
        "id": "5zkfhHc7C8Be"
      },
      "source": [
        "## Workshop 4"
      ]
    },
    {
      "cell_type": "markdown",
      "metadata": {
        "id": "AVUn3RpEC8Bh"
      },
      "source": [
        "### Task 1 Import Wetland data and create a Pandas DataFrame"
      ]
    },
    {
      "cell_type": "code",
      "execution_count": null,
      "metadata": {
        "id": "y_u2DOnhC8Bi"
      },
      "outputs": [],
      "source": [
        "import matplotlib.pyplot as plt\n",
        "import pandas as pd\n",
        "import pylab as pl\n",
        "import numpy as np\n",
        "from sklearn.model_selection import train_test_split"
      ]
    },
    {
      "cell_type": "code",
      "source": [
        "# Load the Drive helper and mount\n",
        "from google.colab import drive\n",
        "\n",
        "# This will prompt for authorization.\n",
        "drive.mount('/content/drive')"
      ],
      "metadata": {
        "colab": {
          "base_uri": "https://localhost:8080/"
        },
        "id": "omgpyNP4DqpG",
        "outputId": "ea6d8b48-8fa7-447e-b37f-5641db8fef24"
      },
      "execution_count": null,
      "outputs": [
        {
          "output_type": "stream",
          "name": "stdout",
          "text": [
            "Mounted at /content/drive\n"
          ]
        }
      ]
    },
    {
      "cell_type": "code",
      "source": [
        "%cd \"/content/drive/My Drive/Colab\""
      ],
      "metadata": {
        "colab": {
          "base_uri": "https://localhost:8080/"
        },
        "id": "26-GHQPZDtH4",
        "outputId": "96458ed6-e5e6-4704-d259-ea92554fcb68"
      },
      "execution_count": null,
      "outputs": [
        {
          "output_type": "stream",
          "name": "stdout",
          "text": [
            "/content/drive/My Drive/Colab\n"
          ]
        }
      ]
    },
    {
      "cell_type": "markdown",
      "metadata": {
        "id": "wrT_3kseC8Bj"
      },
      "source": [
        "###  Task 2: Inspect the first few rows of the DataFrame and summarise the descriptive statistics of the data"
      ]
    },
    {
      "cell_type": "code",
      "execution_count": null,
      "metadata": {
        "colab": {
          "base_uri": "https://localhost:8080/",
          "height": 487
        },
        "id": "rUJD-VN3C8Bk",
        "outputId": "b84ab86d-b2ab-4528-ac22-2b1653fdfb04"
      },
      "outputs": [
        {
          "output_type": "execute_result",
          "data": {
            "text/plain": [
              "     year  month  Evapotranspiration  LeafAreaIndex  NetPrimaryProductivity  \\\n",
              "0    2000      1              107.82           6.28                   128.8   \n",
              "1    2000      2              105.95           5.94                   105.3   \n",
              "2    2000      3               93.76           5.45                   103.0   \n",
              "3    2000      4               51.37           3.99                    57.0   \n",
              "4    2000      5               24.00           3.55                    32.5   \n",
              "..    ...    ...                 ...            ...                     ...   \n",
              "151  2012      8               45.61           5.98                    62.0   \n",
              "152  2012      9               46.05           5.79                    88.1   \n",
              "153  2012     10               68.77           5.53                   114.5   \n",
              "154  2012     11              117.66           5.20                   140.5   \n",
              "155  2012     12              125.45           4.73                   131.0   \n",
              "\n",
              "     TotalPrecipitation  SoilWaterContent  AverageTemperature  Transpiration  \\\n",
              "0                    69            249.58                24.1          66.76   \n",
              "1                   180            248.08                22.5          52.14   \n",
              "2                   101            302.63                20.1          45.40   \n",
              "3                    79            313.31                17.2          23.20   \n",
              "4                   190            347.04                12.2          10.98   \n",
              "..                  ...               ...                 ...            ...   \n",
              "151                 135            352.77                12.0          17.16   \n",
              "152                  80            351.17                14.1          23.76   \n",
              "153                 269            350.13                16.9          34.35   \n",
              "154                 128            341.82                21.2          56.96   \n",
              "155                 179            336.25                22.8          60.49   \n",
              "\n",
              "     orog_pm1   orog_pm5  SoilCarbon  WetLandFraction  \n",
              "0    13.26743  69.076363      9723.9         0.009042  \n",
              "1    13.26743  69.076363      9723.9         0.009184  \n",
              "2    13.26743  69.076363      9723.9         0.008972  \n",
              "3    13.26743  69.076363      9723.9         0.008195  \n",
              "4    13.26743  69.076363      9723.9         0.049571  \n",
              "..        ...        ...         ...              ...  \n",
              "151  13.26743  69.076363      9765.4         0.077338  \n",
              "152  13.26743  69.076363      9765.4         0.097526  \n",
              "153  13.26743  69.076363      9765.4         0.100338  \n",
              "154  13.26743  69.076363      9765.4         0.101572  \n",
              "155  13.26743  69.076363      9765.4         0.093527  \n",
              "\n",
              "[156 rows x 13 columns]"
            ],
            "text/html": [
              "\n",
              "  <div id=\"df-51183de4-7b37-4ab3-9ad1-e334e85ea01d\">\n",
              "    <div class=\"colab-df-container\">\n",
              "      <div>\n",
              "<style scoped>\n",
              "    .dataframe tbody tr th:only-of-type {\n",
              "        vertical-align: middle;\n",
              "    }\n",
              "\n",
              "    .dataframe tbody tr th {\n",
              "        vertical-align: top;\n",
              "    }\n",
              "\n",
              "    .dataframe thead th {\n",
              "        text-align: right;\n",
              "    }\n",
              "</style>\n",
              "<table border=\"1\" class=\"dataframe\">\n",
              "  <thead>\n",
              "    <tr style=\"text-align: right;\">\n",
              "      <th></th>\n",
              "      <th>year</th>\n",
              "      <th>month</th>\n",
              "      <th>Evapotranspiration</th>\n",
              "      <th>LeafAreaIndex</th>\n",
              "      <th>NetPrimaryProductivity</th>\n",
              "      <th>TotalPrecipitation</th>\n",
              "      <th>SoilWaterContent</th>\n",
              "      <th>AverageTemperature</th>\n",
              "      <th>Transpiration</th>\n",
              "      <th>orog_pm1</th>\n",
              "      <th>orog_pm5</th>\n",
              "      <th>SoilCarbon</th>\n",
              "      <th>WetLandFraction</th>\n",
              "    </tr>\n",
              "  </thead>\n",
              "  <tbody>\n",
              "    <tr>\n",
              "      <th>0</th>\n",
              "      <td>2000</td>\n",
              "      <td>1</td>\n",
              "      <td>107.82</td>\n",
              "      <td>6.28</td>\n",
              "      <td>128.8</td>\n",
              "      <td>69</td>\n",
              "      <td>249.58</td>\n",
              "      <td>24.1</td>\n",
              "      <td>66.76</td>\n",
              "      <td>13.26743</td>\n",
              "      <td>69.076363</td>\n",
              "      <td>9723.9</td>\n",
              "      <td>0.009042</td>\n",
              "    </tr>\n",
              "    <tr>\n",
              "      <th>1</th>\n",
              "      <td>2000</td>\n",
              "      <td>2</td>\n",
              "      <td>105.95</td>\n",
              "      <td>5.94</td>\n",
              "      <td>105.3</td>\n",
              "      <td>180</td>\n",
              "      <td>248.08</td>\n",
              "      <td>22.5</td>\n",
              "      <td>52.14</td>\n",
              "      <td>13.26743</td>\n",
              "      <td>69.076363</td>\n",
              "      <td>9723.9</td>\n",
              "      <td>0.009184</td>\n",
              "    </tr>\n",
              "    <tr>\n",
              "      <th>2</th>\n",
              "      <td>2000</td>\n",
              "      <td>3</td>\n",
              "      <td>93.76</td>\n",
              "      <td>5.45</td>\n",
              "      <td>103.0</td>\n",
              "      <td>101</td>\n",
              "      <td>302.63</td>\n",
              "      <td>20.1</td>\n",
              "      <td>45.40</td>\n",
              "      <td>13.26743</td>\n",
              "      <td>69.076363</td>\n",
              "      <td>9723.9</td>\n",
              "      <td>0.008972</td>\n",
              "    </tr>\n",
              "    <tr>\n",
              "      <th>3</th>\n",
              "      <td>2000</td>\n",
              "      <td>4</td>\n",
              "      <td>51.37</td>\n",
              "      <td>3.99</td>\n",
              "      <td>57.0</td>\n",
              "      <td>79</td>\n",
              "      <td>313.31</td>\n",
              "      <td>17.2</td>\n",
              "      <td>23.20</td>\n",
              "      <td>13.26743</td>\n",
              "      <td>69.076363</td>\n",
              "      <td>9723.9</td>\n",
              "      <td>0.008195</td>\n",
              "    </tr>\n",
              "    <tr>\n",
              "      <th>4</th>\n",
              "      <td>2000</td>\n",
              "      <td>5</td>\n",
              "      <td>24.00</td>\n",
              "      <td>3.55</td>\n",
              "      <td>32.5</td>\n",
              "      <td>190</td>\n",
              "      <td>347.04</td>\n",
              "      <td>12.2</td>\n",
              "      <td>10.98</td>\n",
              "      <td>13.26743</td>\n",
              "      <td>69.076363</td>\n",
              "      <td>9723.9</td>\n",
              "      <td>0.049571</td>\n",
              "    </tr>\n",
              "    <tr>\n",
              "      <th>...</th>\n",
              "      <td>...</td>\n",
              "      <td>...</td>\n",
              "      <td>...</td>\n",
              "      <td>...</td>\n",
              "      <td>...</td>\n",
              "      <td>...</td>\n",
              "      <td>...</td>\n",
              "      <td>...</td>\n",
              "      <td>...</td>\n",
              "      <td>...</td>\n",
              "      <td>...</td>\n",
              "      <td>...</td>\n",
              "      <td>...</td>\n",
              "    </tr>\n",
              "    <tr>\n",
              "      <th>151</th>\n",
              "      <td>2012</td>\n",
              "      <td>8</td>\n",
              "      <td>45.61</td>\n",
              "      <td>5.98</td>\n",
              "      <td>62.0</td>\n",
              "      <td>135</td>\n",
              "      <td>352.77</td>\n",
              "      <td>12.0</td>\n",
              "      <td>17.16</td>\n",
              "      <td>13.26743</td>\n",
              "      <td>69.076363</td>\n",
              "      <td>9765.4</td>\n",
              "      <td>0.077338</td>\n",
              "    </tr>\n",
              "    <tr>\n",
              "      <th>152</th>\n",
              "      <td>2012</td>\n",
              "      <td>9</td>\n",
              "      <td>46.05</td>\n",
              "      <td>5.79</td>\n",
              "      <td>88.1</td>\n",
              "      <td>80</td>\n",
              "      <td>351.17</td>\n",
              "      <td>14.1</td>\n",
              "      <td>23.76</td>\n",
              "      <td>13.26743</td>\n",
              "      <td>69.076363</td>\n",
              "      <td>9765.4</td>\n",
              "      <td>0.097526</td>\n",
              "    </tr>\n",
              "    <tr>\n",
              "      <th>153</th>\n",
              "      <td>2012</td>\n",
              "      <td>10</td>\n",
              "      <td>68.77</td>\n",
              "      <td>5.53</td>\n",
              "      <td>114.5</td>\n",
              "      <td>269</td>\n",
              "      <td>350.13</td>\n",
              "      <td>16.9</td>\n",
              "      <td>34.35</td>\n",
              "      <td>13.26743</td>\n",
              "      <td>69.076363</td>\n",
              "      <td>9765.4</td>\n",
              "      <td>0.100338</td>\n",
              "    </tr>\n",
              "    <tr>\n",
              "      <th>154</th>\n",
              "      <td>2012</td>\n",
              "      <td>11</td>\n",
              "      <td>117.66</td>\n",
              "      <td>5.20</td>\n",
              "      <td>140.5</td>\n",
              "      <td>128</td>\n",
              "      <td>341.82</td>\n",
              "      <td>21.2</td>\n",
              "      <td>56.96</td>\n",
              "      <td>13.26743</td>\n",
              "      <td>69.076363</td>\n",
              "      <td>9765.4</td>\n",
              "      <td>0.101572</td>\n",
              "    </tr>\n",
              "    <tr>\n",
              "      <th>155</th>\n",
              "      <td>2012</td>\n",
              "      <td>12</td>\n",
              "      <td>125.45</td>\n",
              "      <td>4.73</td>\n",
              "      <td>131.0</td>\n",
              "      <td>179</td>\n",
              "      <td>336.25</td>\n",
              "      <td>22.8</td>\n",
              "      <td>60.49</td>\n",
              "      <td>13.26743</td>\n",
              "      <td>69.076363</td>\n",
              "      <td>9765.4</td>\n",
              "      <td>0.093527</td>\n",
              "    </tr>\n",
              "  </tbody>\n",
              "</table>\n",
              "<p>156 rows × 13 columns</p>\n",
              "</div>\n",
              "      <button class=\"colab-df-convert\" onclick=\"convertToInteractive('df-51183de4-7b37-4ab3-9ad1-e334e85ea01d')\"\n",
              "              title=\"Convert this dataframe to an interactive table.\"\n",
              "              style=\"display:none;\">\n",
              "        \n",
              "  <svg xmlns=\"http://www.w3.org/2000/svg\" height=\"24px\"viewBox=\"0 0 24 24\"\n",
              "       width=\"24px\">\n",
              "    <path d=\"M0 0h24v24H0V0z\" fill=\"none\"/>\n",
              "    <path d=\"M18.56 5.44l.94 2.06.94-2.06 2.06-.94-2.06-.94-.94-2.06-.94 2.06-2.06.94zm-11 1L8.5 8.5l.94-2.06 2.06-.94-2.06-.94L8.5 2.5l-.94 2.06-2.06.94zm10 10l.94 2.06.94-2.06 2.06-.94-2.06-.94-.94-2.06-.94 2.06-2.06.94z\"/><path d=\"M17.41 7.96l-1.37-1.37c-.4-.4-.92-.59-1.43-.59-.52 0-1.04.2-1.43.59L10.3 9.45l-7.72 7.72c-.78.78-.78 2.05 0 2.83L4 21.41c.39.39.9.59 1.41.59.51 0 1.02-.2 1.41-.59l7.78-7.78 2.81-2.81c.8-.78.8-2.07 0-2.86zM5.41 20L4 18.59l7.72-7.72 1.47 1.35L5.41 20z\"/>\n",
              "  </svg>\n",
              "      </button>\n",
              "      \n",
              "  <style>\n",
              "    .colab-df-container {\n",
              "      display:flex;\n",
              "      flex-wrap:wrap;\n",
              "      gap: 12px;\n",
              "    }\n",
              "\n",
              "    .colab-df-convert {\n",
              "      background-color: #E8F0FE;\n",
              "      border: none;\n",
              "      border-radius: 50%;\n",
              "      cursor: pointer;\n",
              "      display: none;\n",
              "      fill: #1967D2;\n",
              "      height: 32px;\n",
              "      padding: 0 0 0 0;\n",
              "      width: 32px;\n",
              "    }\n",
              "\n",
              "    .colab-df-convert:hover {\n",
              "      background-color: #E2EBFA;\n",
              "      box-shadow: 0px 1px 2px rgba(60, 64, 67, 0.3), 0px 1px 3px 1px rgba(60, 64, 67, 0.15);\n",
              "      fill: #174EA6;\n",
              "    }\n",
              "\n",
              "    [theme=dark] .colab-df-convert {\n",
              "      background-color: #3B4455;\n",
              "      fill: #D2E3FC;\n",
              "    }\n",
              "\n",
              "    [theme=dark] .colab-df-convert:hover {\n",
              "      background-color: #434B5C;\n",
              "      box-shadow: 0px 1px 3px 1px rgba(0, 0, 0, 0.15);\n",
              "      filter: drop-shadow(0px 1px 2px rgba(0, 0, 0, 0.3));\n",
              "      fill: #FFFFFF;\n",
              "    }\n",
              "  </style>\n",
              "\n",
              "      <script>\n",
              "        const buttonEl =\n",
              "          document.querySelector('#df-51183de4-7b37-4ab3-9ad1-e334e85ea01d button.colab-df-convert');\n",
              "        buttonEl.style.display =\n",
              "          google.colab.kernel.accessAllowed ? 'block' : 'none';\n",
              "\n",
              "        async function convertToInteractive(key) {\n",
              "          const element = document.querySelector('#df-51183de4-7b37-4ab3-9ad1-e334e85ea01d');\n",
              "          const dataTable =\n",
              "            await google.colab.kernel.invokeFunction('convertToInteractive',\n",
              "                                                     [key], {});\n",
              "          if (!dataTable) return;\n",
              "\n",
              "          const docLinkHtml = 'Like what you see? Visit the ' +\n",
              "            '<a target=\"_blank\" href=https://colab.research.google.com/notebooks/data_table.ipynb>data table notebook</a>'\n",
              "            + ' to learn more about interactive tables.';\n",
              "          element.innerHTML = '';\n",
              "          dataTable['output_type'] = 'display_data';\n",
              "          await google.colab.output.renderOutput(dataTable, element);\n",
              "          const docLink = document.createElement('div');\n",
              "          docLink.innerHTML = docLinkHtml;\n",
              "          element.appendChild(docLink);\n",
              "        }\n",
              "      </script>\n",
              "    </div>\n",
              "  </div>\n",
              "  "
            ]
          },
          "metadata": {},
          "execution_count": 4
        }
      ],
      "source": [
        "# Reading the data\n",
        "df=pd.read_csv(\"Wetland Data.csv\")\n",
        "df"
      ]
    },
    {
      "cell_type": "code",
      "execution_count": null,
      "metadata": {
        "colab": {
          "base_uri": "https://localhost:8080/"
        },
        "id": "a6VNVuuxC8Bm",
        "outputId": "9aa22bae-2a23-4fa2-c63a-e15bcf27b6ab"
      },
      "outputs": [
        {
          "output_type": "stream",
          "name": "stdout",
          "text": [
            "              year      month  Evapotranspiration  LeafAreaIndex  \\\n",
            "count   156.000000  156.00000          156.000000     156.000000   \n",
            "mean   2006.000000    6.50000           62.707949       4.266346   \n",
            "std       3.753708    3.46317           38.046481       1.323215   \n",
            "min    2000.000000    1.00000            8.930000       1.820000   \n",
            "25%    2003.000000    3.75000           25.057500       3.062500   \n",
            "50%    2006.000000    6.50000           57.240000       4.260000   \n",
            "75%    2009.000000    9.25000           95.830000       5.505000   \n",
            "max    2012.000000   12.00000          144.700000       6.490000   \n",
            "\n",
            "       NetPrimaryProductivity  TotalPrecipitation  SoilWaterContent  \\\n",
            "count              156.000000          156.000000        156.000000   \n",
            "mean                70.491026           86.070513        326.447628   \n",
            "std                 57.261997           67.529216         33.462869   \n",
            "min                -70.900000            1.000000        207.750000   \n",
            "25%                 27.925000           31.000000        313.325000   \n",
            "50%                 76.750000           70.500000        340.260000   \n",
            "75%                117.250000          126.250000        350.812500   \n",
            "max                166.700000          324.000000        360.440000   \n",
            "\n",
            "       AverageTemperature  Transpiration      orog_pm1      orog_pm5  \\\n",
            "count          156.000000     156.000000  1.560000e+02  1.560000e+02   \n",
            "mean            16.489744      32.388718  1.326743e+01  6.907636e+01   \n",
            "std              5.127046      20.724068  5.346233e-15  1.425662e-14   \n",
            "min              6.800000       4.550000  1.326743e+01  6.907636e+01   \n",
            "25%             12.075000      12.462500  1.326743e+01  6.907636e+01   \n",
            "50%             16.500000      29.250000  1.326743e+01  6.907636e+01   \n",
            "75%             21.600000      49.862500  1.326743e+01  6.907636e+01   \n",
            "max             25.000000      74.970000  1.326743e+01  6.907636e+01   \n",
            "\n",
            "        SoilCarbon  WetLandFraction  \n",
            "count   156.000000       156.000000  \n",
            "mean   9772.507692         0.043811  \n",
            "std      85.598201         0.034009  \n",
            "min    9606.200000         0.000000  \n",
            "25%    9723.900000         0.010930  \n",
            "50%    9787.600000         0.041618  \n",
            "75%    9841.700000         0.072694  \n",
            "max    9874.200000         0.101572  \n"
          ]
        }
      ],
      "source": [
        "print(df.describe())"
      ]
    },
    {
      "cell_type": "markdown",
      "metadata": {
        "id": "OBKxqoUSC8Bn"
      },
      "source": [
        "### Task 3: Check the correlation of Evapotranspiration with all the other variables one by one. In another words, Evapotranspiration is the output of interest here and all other variables are considered to be contrbuting variables. In this task, you need to visually inspect the correlation through scatter plots and there is no need to calculate correlation coefficients."
      ]
    },
    {
      "cell_type": "code",
      "execution_count": null,
      "metadata": {
        "colab": {
          "base_uri": "https://localhost:8080/",
          "height": 279
        },
        "id": "SPCgSUU9C8Bu",
        "outputId": "cac53a5a-022f-4206-ae5a-23f798b9542d"
      },
      "outputs": [
        {
          "output_type": "display_data",
          "data": {
            "text/plain": [
              "<Figure size 432x288 with 1 Axes>"
            ],
            "image/png": "[encoded data removed]"
          },
          "metadata": {
            "needs_background": "light"
          }
        }
      ],
      "source": [
        "#AverageTemperature=df['AverageTemperature']\n",
        "#WetLandFraction=df['WetLandFraction']\n",
        "\n",
        "\n",
        "plt.scatter(df.TotalPrecipitation,df.Evapotranspiration, color='black')\n",
        "plt.xlabel(\"Totalprecipitation\")\n",
        "plt.ylabel(\"Evapotranspiration\")\n",
        "plt.show()"
      ]
    },
    {
      "cell_type": "code",
      "execution_count": null,
      "metadata": {
        "colab": {
          "base_uri": "https://localhost:8080/",
          "height": 279
        },
        "id": "1oThdIXvC8Bx",
        "outputId": "72553fa3-33d9-4182-df17-947657805496"
      },
      "outputs": [
        {
          "output_type": "display_data",
          "data": {
            "text/plain": [
              "<Figure size 432x288 with 1 Axes>"
            ],
            "image/png": "[encoded data removed]"
          },
          "metadata": {
            "needs_background": "light"
          }
        }
      ],
      "source": [
        "plt.scatter(df.Transpiration,df.Evapotranspiration, color='blue')\n",
        "plt.xlabel(\"Transpiration\")\n",
        "plt.ylabel(\"Evapotranspiration\")\n",
        "plt.show()"
      ]
    },
    {
      "cell_type": "markdown",
      "metadata": {
        "id": "BaQjL3grC8B1"
      },
      "source": [
        "### Task 4: Based on the above correlation plots choose a suitable input variable and develop a simple linear regression model. You need to show how well the regression line fits to the data. In addition you also need to calculate the model performance parmeters such as, Mean absolute error and R2-score\n"
      ]
    },
    {
      "cell_type": "code",
      "execution_count": null,
      "metadata": {
        "colab": {
          "base_uri": "https://localhost:8080/",
          "height": 423
        },
        "id": "EBW3Q9ZCC8B5",
        "outputId": "97a6b11f-a507-4c76-a8e2-34644db98803"
      },
      "outputs": [
        {
          "output_type": "execute_result",
          "data": {
            "text/plain": [
              "     Transpiration\n",
              "0            66.76\n",
              "1            52.14\n",
              "2            45.40\n",
              "3            23.20\n",
              "4            10.98\n",
              "..             ...\n",
              "151          17.16\n",
              "152          23.76\n",
              "153          34.35\n",
              "154          56.96\n",
              "155          60.49\n",
              "\n",
              "[156 rows x 1 columns]"
            ],
            "text/html": [
              "\n",
              "  <div id=\"df-e1aa8d67-2769-4e05-86a4-e8dbbb4329a7\">\n",
              "    <div class=\"colab-df-container\">\n",
              "      <div>\n",
              "<style scoped>\n",
              "    .dataframe tbody tr th:only-of-type {\n",
              "        vertical-align: middle;\n",
              "    }\n",
              "\n",
              "    .dataframe tbody tr th {\n",
              "        vertical-align: top;\n",
              "    }\n",
              "\n",
              "    .dataframe thead th {\n",
              "        text-align: right;\n",
              "    }\n",
              "</style>\n",
              "<table border=\"1\" class=\"dataframe\">\n",
              "  <thead>\n",
              "    <tr style=\"text-align: right;\">\n",
              "      <th></th>\n",
              "      <th>Transpiration</th>\n",
              "    </tr>\n",
              "  </thead>\n",
              "  <tbody>\n",
              "    <tr>\n",
              "      <th>0</th>\n",
              "      <td>66.76</td>\n",
              "    </tr>\n",
              "    <tr>\n",
              "      <th>1</th>\n",
              "      <td>52.14</td>\n",
              "    </tr>\n",
              "    <tr>\n",
              "      <th>2</th>\n",
              "      <td>45.40</td>\n",
              "    </tr>\n",
              "    <tr>\n",
              "      <th>3</th>\n",
              "      <td>23.20</td>\n",
              "    </tr>\n",
              "    <tr>\n",
              "      <th>4</th>\n",
              "      <td>10.98</td>\n",
              "    </tr>\n",
              "    <tr>\n",
              "      <th>...</th>\n",
              "      <td>...</td>\n",
              "    </tr>\n",
              "    <tr>\n",
              "      <th>151</th>\n",
              "      <td>17.16</td>\n",
              "    </tr>\n",
              "    <tr>\n",
              "      <th>152</th>\n",
              "      <td>23.76</td>\n",
              "    </tr>\n",
              "    <tr>\n",
              "      <th>153</th>\n",
              "      <td>34.35</td>\n",
              "    </tr>\n",
              "    <tr>\n",
              "      <th>154</th>\n",
              "      <td>56.96</td>\n",
              "    </tr>\n",
              "    <tr>\n",
              "      <th>155</th>\n",
              "      <td>60.49</td>\n",
              "    </tr>\n",
              "  </tbody>\n",
              "</table>\n",
              "<p>156 rows × 1 columns</p>\n",
              "</div>\n",
              "      <button class=\"colab-df-convert\" onclick=\"convertToInteractive('df-e1aa8d67-2769-4e05-86a4-e8dbbb4329a7')\"\n",
              "              title=\"Convert this dataframe to an interactive table.\"\n",
              "              style=\"display:none;\">\n",
              "        \n",
              "  <svg xmlns=\"http://www.w3.org/2000/svg\" height=\"24px\"viewBox=\"0 0 24 24\"\n",
              "       width=\"24px\">\n",
              "    <path d=\"M0 0h24v24H0V0z\" fill=\"none\"/>\n",
              "    <path d=\"M18.56 5.44l.94 2.06.94-2.06 2.06-.94-2.06-.94-.94-2.06-.94 2.06-2.06.94zm-11 1L8.5 8.5l.94-2.06 2.06-.94-2.06-.94L8.5 2.5l-.94 2.06-2.06.94zm10 10l.94 2.06.94-2.06 2.06-.94-2.06-.94-.94-2.06-.94 2.06-2.06.94z\"/><path d=\"M17.41 7.96l-1.37-1.37c-.4-.4-.92-.59-1.43-.59-.52 0-1.04.2-1.43.59L10.3 9.45l-7.72 7.72c-.78.78-.78 2.05 0 2.83L4 21.41c.39.39.9.59 1.41.59.51 0 1.02-.2 1.41-.59l7.78-7.78 2.81-2.81c.8-.78.8-2.07 0-2.86zM5.41 20L4 18.59l7.72-7.72 1.47 1.35L5.41 20z\"/>\n",
              "  </svg>\n",
              "      </button>\n",
              "      \n",
              "  <style>\n",
              "    .colab-df-container {\n",
              "      display:flex;\n",
              "      flex-wrap:wrap;\n",
              "      gap: 12px;\n",
              "    }\n",
              "\n",
              "    .colab-df-convert {\n",
              "      background-color: #E8F0FE;\n",
              "      border: none;\n",
              "      border-radius: 50%;\n",
              "      cursor: pointer;\n",
              "      display: none;\n",
              "      fill: #1967D2;\n",
              "      height: 32px;\n",
              "      padding: 0 0 0 0;\n",
              "      width: 32px;\n",
              "    }\n",
              "\n",
              "    .colab-df-convert:hover {\n",
              "      background-color: #E2EBFA;\n",
              "      box-shadow: 0px 1px 2px rgba(60, 64, 67, 0.3), 0px 1px 3px 1px rgba(60, 64, 67, 0.15);\n",
              "      fill: #174EA6;\n",
              "    }\n",
              "\n",
              "    [theme=dark] .colab-df-convert {\n",
              "      background-color: #3B4455;\n",
              "      fill: #D2E3FC;\n",
              "    }\n",
              "\n",
              "    [theme=dark] .colab-df-convert:hover {\n",
              "      background-color: #434B5C;\n",
              "      box-shadow: 0px 1px 3px 1px rgba(0, 0, 0, 0.15);\n",
              "      filter: drop-shadow(0px 1px 2px rgba(0, 0, 0, 0.3));\n",
              "      fill: #FFFFFF;\n",
              "    }\n",
              "  </style>\n",
              "\n",
              "      <script>\n",
              "        const buttonEl =\n",
              "          document.querySelector('#df-e1aa8d67-2769-4e05-86a4-e8dbbb4329a7 button.colab-df-convert');\n",
              "        buttonEl.style.display =\n",
              "          google.colab.kernel.accessAllowed ? 'block' : 'none';\n",
              "\n",
              "        async function convertToInteractive(key) {\n",
              "          const element = document.querySelector('#df-e1aa8d67-2769-4e05-86a4-e8dbbb4329a7');\n",
              "          const dataTable =\n",
              "            await google.colab.kernel.invokeFunction('convertToInteractive',\n",
              "                                                     [key], {});\n",
              "          if (!dataTable) return;\n",
              "\n",
              "          const docLinkHtml = 'Like what you see? Visit the ' +\n",
              "            '<a target=\"_blank\" href=https://colab.research.google.com/notebooks/data_table.ipynb>data table notebook</a>'\n",
              "            + ' to learn more about interactive tables.';\n",
              "          element.innerHTML = '';\n",
              "          dataTable['output_type'] = 'display_data';\n",
              "          await google.colab.output.renderOutput(dataTable, element);\n",
              "          const docLink = document.createElement('div');\n",
              "          docLink.innerHTML = docLinkHtml;\n",
              "          element.appendChild(docLink);\n",
              "        }\n",
              "      </script>\n",
              "    </div>\n",
              "  </div>\n",
              "  "
            ]
          },
          "metadata": {},
          "execution_count": 9
        }
      ],
      "source": [
        "X=df[['Transpiration']]\n",
        "X\n"
      ]
    },
    {
      "cell_type": "code",
      "execution_count": null,
      "metadata": {
        "colab": {
          "base_uri": "https://localhost:8080/",
          "height": 423
        },
        "id": "sSRlBFCxC8B6",
        "outputId": "c2aee46b-0f36-47a7-ade3-0e483f9c4cd9"
      },
      "outputs": [
        {
          "output_type": "execute_result",
          "data": {
            "text/plain": [
              "     Evapotranspiration\n",
              "0                107.82\n",
              "1                105.95\n",
              "2                 93.76\n",
              "3                 51.37\n",
              "4                 24.00\n",
              "..                  ...\n",
              "151               45.61\n",
              "152               46.05\n",
              "153               68.77\n",
              "154              117.66\n",
              "155              125.45\n",
              "\n",
              "[156 rows x 1 columns]"
            ],
            "text/html": [
              "\n",
              "  <div id=\"df-69ccc14b-84e1-4653-97c9-2f91261e1b00\">\n",
              "    <div class=\"colab-df-container\">\n",
              "      <div>\n",
              "<style scoped>\n",
              "    .dataframe tbody tr th:only-of-type {\n",
              "        vertical-align: middle;\n",
              "    }\n",
              "\n",
              "    .dataframe tbody tr th {\n",
              "        vertical-align: top;\n",
              "    }\n",
              "\n",
              "    .dataframe thead th {\n",
              "        text-align: right;\n",
              "    }\n",
              "</style>\n",
              "<table border=\"1\" class=\"dataframe\">\n",
              "  <thead>\n",
              "    <tr style=\"text-align: right;\">\n",
              "      <th></th>\n",
              "      <th>Evapotranspiration</th>\n",
              "    </tr>\n",
              "  </thead>\n",
              "  <tbody>\n",
              "    <tr>\n",
              "      <th>0</th>\n",
              "      <td>107.82</td>\n",
              "    </tr>\n",
              "    <tr>\n",
              "      <th>1</th>\n",
              "      <td>105.95</td>\n",
              "    </tr>\n",
              "    <tr>\n",
              "      <th>2</th>\n",
              "      <td>93.76</td>\n",
              "    </tr>\n",
              "    <tr>\n",
              "      <th>3</th>\n",
              "      <td>51.37</td>\n",
              "    </tr>\n",
              "    <tr>\n",
              "      <th>4</th>\n",
              "      <td>24.00</td>\n",
              "    </tr>\n",
              "    <tr>\n",
              "      <th>...</th>\n",
              "      <td>...</td>\n",
              "    </tr>\n",
              "    <tr>\n",
              "      <th>151</th>\n",
              "      <td>45.61</td>\n",
              "    </tr>\n",
              "    <tr>\n",
              "      <th>152</th>\n",
              "      <td>46.05</td>\n",
              "    </tr>\n",
              "    <tr>\n",
              "      <th>153</th>\n",
              "      <td>68.77</td>\n",
              "    </tr>\n",
              "    <tr>\n",
              "      <th>154</th>\n",
              "      <td>117.66</td>\n",
              "    </tr>\n",
              "    <tr>\n",
              "      <th>155</th>\n",
              "      <td>125.45</td>\n",
              "    </tr>\n",
              "  </tbody>\n",
              "</table>\n",
              "<p>156 rows × 1 columns</p>\n",
              "</div>\n",
              "      <button class=\"colab-df-convert\" onclick=\"convertToInteractive('df-69ccc14b-84e1-4653-97c9-2f91261e1b00')\"\n",
              "              title=\"Convert this dataframe to an interactive table.\"\n",
              "              style=\"display:none;\">\n",
              "        \n",
              "  <svg xmlns=\"http://www.w3.org/2000/svg\" height=\"24px\"viewBox=\"0 0 24 24\"\n",
              "       width=\"24px\">\n",
              "    <path d=\"M0 0h24v24H0V0z\" fill=\"none\"/>\n",
              "    <path d=\"M18.56 5.44l.94 2.06.94-2.06 2.06-.94-2.06-.94-.94-2.06-.94 2.06-2.06.94zm-11 1L8.5 8.5l.94-2.06 2.06-.94-2.06-.94L8.5 2.5l-.94 2.06-2.06.94zm10 10l.94 2.06.94-2.06 2.06-.94-2.06-.94-.94-2.06-.94 2.06-2.06.94z\"/><path d=\"M17.41 7.96l-1.37-1.37c-.4-.4-.92-.59-1.43-.59-.52 0-1.04.2-1.43.59L10.3 9.45l-7.72 7.72c-.78.78-.78 2.05 0 2.83L4 21.41c.39.39.9.59 1.41.59.51 0 1.02-.2 1.41-.59l7.78-7.78 2.81-2.81c.8-.78.8-2.07 0-2.86zM5.41 20L4 18.59l7.72-7.72 1.47 1.35L5.41 20z\"/>\n",
              "  </svg>\n",
              "      </button>\n",
              "      \n",
              "  <style>\n",
              "    .colab-df-container {\n",
              "      display:flex;\n",
              "      flex-wrap:wrap;\n",
              "      gap: 12px;\n",
              "    }\n",
              "\n",
              "    .colab-df-convert {\n",
              "      background-color: #E8F0FE;\n",
              "      border: none;\n",
              "      border-radius: 50%;\n",
              "      cursor: pointer;\n",
              "      display: none;\n",
              "      fill: #1967D2;\n",
              "      height: 32px;\n",
              "      padding: 0 0 0 0;\n",
              "      width: 32px;\n",
              "    }\n",
              "\n",
              "    .colab-df-convert:hover {\n",
              "      background-color: #E2EBFA;\n",
              "      box-shadow: 0px 1px 2px rgba(60, 64, 67, 0.3), 0px 1px 3px 1px rgba(60, 64, 67, 0.15);\n",
              "      fill: #174EA6;\n",
              "    }\n",
              "\n",
              "    [theme=dark] .colab-df-convert {\n",
              "      background-color: #3B4455;\n",
              "      fill: #D2E3FC;\n",
              "    }\n",
              "\n",
              "    [theme=dark] .colab-df-convert:hover {\n",
              "      background-color: #434B5C;\n",
              "      box-shadow: 0px 1px 3px 1px rgba(0, 0, 0, 0.15);\n",
              "      filter: drop-shadow(0px 1px 2px rgba(0, 0, 0, 0.3));\n",
              "      fill: #FFFFFF;\n",
              "    }\n",
              "  </style>\n",
              "\n",
              "      <script>\n",
              "        const buttonEl =\n",
              "          document.querySelector('#df-69ccc14b-84e1-4653-97c9-2f91261e1b00 button.colab-df-convert');\n",
              "        buttonEl.style.display =\n",
              "          google.colab.kernel.accessAllowed ? 'block' : 'none';\n",
              "\n",
              "        async function convertToInteractive(key) {\n",
              "          const element = document.querySelector('#df-69ccc14b-84e1-4653-97c9-2f91261e1b00');\n",
              "          const dataTable =\n",
              "            await google.colab.kernel.invokeFunction('convertToInteractive',\n",
              "                                                     [key], {});\n",
              "          if (!dataTable) return;\n",
              "\n",
              "          const docLinkHtml = 'Like what you see? Visit the ' +\n",
              "            '<a target=\"_blank\" href=https://colab.research.google.com/notebooks/data_table.ipynb>data table notebook</a>'\n",
              "            + ' to learn more about interactive tables.';\n",
              "          element.innerHTML = '';\n",
              "          dataTable['output_type'] = 'display_data';\n",
              "          await google.colab.output.renderOutput(dataTable, element);\n",
              "          const docLink = document.createElement('div');\n",
              "          docLink.innerHTML = docLinkHtml;\n",
              "          element.appendChild(docLink);\n",
              "        }\n",
              "      </script>\n",
              "    </div>\n",
              "  </div>\n",
              "  "
            ]
          },
          "metadata": {},
          "execution_count": 10
        }
      ],
      "source": [
        "y=df[['Evapotranspiration']]\n",
        "y"
      ]
    },
    {
      "cell_type": "code",
      "execution_count": null,
      "metadata": {
        "id": "DGB5p_oxC8B_"
      },
      "outputs": [],
      "source": [
        "X_train, X_test, y_train, y_test = train_test_split(X, y, test_size=0.33)"
      ]
    },
    {
      "cell_type": "code",
      "execution_count": null,
      "metadata": {
        "colab": {
          "base_uri": "https://localhost:8080/"
        },
        "id": "M6tM11idC8CA",
        "outputId": "90cf19b9-7763-4b9b-e037-e8adf08afbb1"
      },
      "outputs": [
        {
          "output_type": "stream",
          "name": "stdout",
          "text": [
            "     Transpiration\n",
            "75           21.73\n",
            "15           21.81\n",
            "99           21.38\n",
            "4            10.98\n",
            "66            8.63\n",
            "..             ...\n",
            "94           49.67\n",
            "108          48.96\n",
            "82           49.62\n",
            "135          21.95\n",
            "11           71.34\n",
            "\n",
            "[104 rows x 1 columns]\n"
          ]
        }
      ],
      "source": [
        "print(X_train)"
      ]
    },
    {
      "cell_type": "code",
      "execution_count": null,
      "metadata": {
        "colab": {
          "base_uri": "https://localhost:8080/"
        },
        "id": "j9FOyoLwC8CB",
        "outputId": "32708ce4-9f5a-4cf6-f705-fc70206ee79b"
      },
      "outputs": [
        {
          "output_type": "stream",
          "name": "stdout",
          "text": [
            "     Transpiration\n",
            "35           69.70\n",
            "9            29.25\n",
            "89            5.89\n",
            "29            7.52\n",
            "113           4.55\n",
            "24           69.70\n",
            "72           61.47\n",
            "96           51.23\n",
            "27           21.06\n",
            "102          10.17\n",
            "49           45.99\n",
            "104          22.64\n",
            "61           50.32\n",
            "60           68.89\n",
            "147          21.33\n",
            "140          30.14\n",
            "48           73.67\n",
            "21           36.64\n",
            "68           23.80\n",
            "146          32.75\n",
            "71           60.55\n",
            "12           64.94\n",
            "119          58.84\n",
            "124          12.08\n",
            "153          34.35\n",
            "133          43.09\n",
            "5             9.53\n",
            "116          18.27\n",
            "6             5.46\n",
            "63           19.08\n",
            "101           6.13\n",
            "86           34.01\n",
            "137           6.57\n",
            "40           13.10\n",
            "87           22.59\n",
            "59           63.46\n",
            "47           67.77\n",
            "103          15.02\n",
            "43           10.67\n",
            "69           38.44\n",
            "54            7.55\n",
            "23           74.97\n",
            "98           31.97\n",
            "107          58.52\n",
            "115          19.30\n",
            "111          17.69\n",
            "110          27.90\n",
            "91           10.79\n",
            "8            15.28\n",
            "33           44.49\n",
            "34           54.40\n",
            "41            8.09\n"
          ]
        }
      ],
      "source": [
        "print(X_test)"
      ]
    },
    {
      "cell_type": "code",
      "execution_count": null,
      "metadata": {
        "colab": {
          "base_uri": "https://localhost:8080/"
        },
        "id": "-Hw3eYU3C8CB",
        "outputId": "586beac9-920f-47cb-f481-122e73d91b1d"
      },
      "outputs": [
        {
          "output_type": "stream",
          "name": "stdout",
          "text": [
            "     Evapotranspiration\n",
            "75                55.96\n",
            "15                45.76\n",
            "99                36.43\n",
            "4                 24.00\n",
            "66                21.49\n",
            "..                  ...\n",
            "94                86.16\n",
            "108               65.82\n",
            "82                79.46\n",
            "135               51.64\n",
            "11               107.79\n",
            "\n",
            "[104 rows x 1 columns]\n"
          ]
        }
      ],
      "source": [
        "print(y_train)"
      ]
    },
    {
      "cell_type": "code",
      "execution_count": null,
      "metadata": {
        "colab": {
          "base_uri": "https://localhost:8080/"
        },
        "id": "2-Pk_adOC8CB",
        "outputId": "bdd92da0-4ae2-4987-df95-4ba4843aa68a"
      },
      "outputs": [
        {
          "output_type": "stream",
          "name": "stdout",
          "text": [
            "     Evapotranspiration\n",
            "35               138.68\n",
            "9                 64.82\n",
            "89                11.88\n",
            "29                15.83\n",
            "113                8.93\n",
            "24               114.22\n",
            "72               115.06\n",
            "96                96.73\n",
            "27                42.80\n",
            "102               22.17\n",
            "49                56.14\n",
            "104               45.58\n",
            "61                92.04\n",
            "60               140.03\n",
            "147               45.35\n",
            "140               52.60\n",
            "48               126.84\n",
            "21                63.96\n",
            "68                48.87\n",
            "146               74.66\n",
            "71                99.99\n",
            "12               124.57\n",
            "119              121.96\n",
            "124               29.05\n",
            "153               68.77\n",
            "133               84.29\n",
            "5                 19.91\n",
            "116               49.74\n",
            "6                  9.31\n",
            "63                36.26\n",
            "101               11.73\n",
            "86                79.91\n",
            "137               15.03\n",
            "40                29.11\n",
            "87                45.33\n",
            "59               144.70\n",
            "47               134.61\n",
            "103               24.51\n",
            "43                19.59\n",
            "69                62.26\n",
            "54                22.64\n",
            "23               125.52\n",
            "98                75.32\n",
            "107               92.06\n",
            "115               30.72\n",
            "111               45.54\n",
            "110               48.14\n",
            "91                15.47\n",
            "8                 29.66\n",
            "33                99.69\n",
            "34               113.30\n",
            "41                15.64\n"
          ]
        }
      ],
      "source": [
        "print(y_test)"
      ]
    },
    {
      "cell_type": "code",
      "execution_count": null,
      "metadata": {
        "colab": {
          "base_uri": "https://localhost:8080/"
        },
        "id": "GG2P-lzFC8CC",
        "outputId": "b0278115-9d9c-43da-c3b6-39b320dc51ba"
      },
      "outputs": [
        {
          "output_type": "stream",
          "name": "stdout",
          "text": [
            "Coefficients: [[1.74702427]]\n",
            "Intercept: [6.19287979]\n"
          ]
        }
      ],
      "source": [
        "from sklearn import linear_model\n",
        "regr=linear_model.LinearRegression()\n",
        "regr.fit(X_train,y_train)\n",
        "\n",
        "# The coefficients\n",
        "print('Coefficients:', regr.coef_)\n",
        "print('Intercept:', regr.intercept_)"
      ]
    },
    {
      "cell_type": "code",
      "execution_count": null,
      "metadata": {
        "colab": {
          "base_uri": "https://localhost:8080/",
          "height": 297
        },
        "id": "O-wNKKanC8CC",
        "outputId": "078bd04b-88b7-4f20-8587-efaac7421d67"
      },
      "outputs": [
        {
          "output_type": "execute_result",
          "data": {
            "text/plain": [
              "Text(0, 0.5, 'Wetland Fraction')"
            ]
          },
          "metadata": {},
          "execution_count": 18
        },
        {
          "output_type": "display_data",
          "data": {
            "text/plain": [
              "<Figure size 432x288 with 1 Axes>"
            ],
            "image/png": "[encoded data removed]"
          },
          "metadata": {
            "needs_background": "light"
          }
        }
      ],
      "source": [
        "# Plot outputs\n",
        "plt.scatter(X_train,y_train,color='blue')\n",
        "plt.plot(X_train,regr.coef_[0][0]*X_train + regr.intercept_[0],'-r')\n",
        "plt.xlabel(\"Average Temperature\")\n",
        "plt.ylabel(\"Wetland Fraction\")"
      ]
    },
    {
      "cell_type": "code",
      "execution_count": null,
      "metadata": {
        "id": "CDNFPdobC8CC"
      },
      "outputs": [],
      "source": [
        "from sklearn.metrics import r2_score\n",
        "test_y_ = regr.predict(X_test)"
      ]
    },
    {
      "cell_type": "code",
      "execution_count": null,
      "metadata": {
        "colab": {
          "base_uri": "https://localhost:8080/"
        },
        "id": "WGTZbWdiC8CH",
        "outputId": "573852a0-b0a5-4139-ed6a-9d0caf667ba6"
      },
      "outputs": [
        {
          "output_type": "stream",
          "name": "stdout",
          "text": [
            "Mean absolute error: 7.51\n",
            "Residual sum of squares (MSE): 95.93\n",
            "R2-score: 0.94\n"
          ]
        }
      ],
      "source": [
        "print(\"Mean absolute error: %.2f\" % np.mean(np.absolute(test_y_-y_test)))\n",
        "print(\"Residual sum of squares (MSE): %.2f\" % np.mean((test_y_-y_test)**2))\n",
        "print(\"R2-score: %.2f\" % r2_score(test_y_,y_test))"
      ]
    },
    {
      "cell_type": "markdown",
      "metadata": {
        "id": "r2ATR2bsC8CH"
      },
      "source": [
        "### Task 5: Do you think including more than one variable in the regression model would improve the model's performance? If yes then, develop a multiple linear regression model considering all the available inputs. Please note that the output of interest in this case is the same, Evapotranspiration."
      ]
    },
    {
      "cell_type": "code",
      "execution_count": null,
      "metadata": {
        "colab": {
          "base_uri": "https://localhost:8080/",
          "height": 423
        },
        "id": "dyu1YQuGC8CI",
        "outputId": "3fd74f72-c7ed-410f-f2e5-31ccaa24466b"
      },
      "outputs": [
        {
          "output_type": "execute_result",
          "data": {
            "text/plain": [
              "     AverageTemperature  TotalPrecipitation  SoilWaterContent  Transpiration  \\\n",
              "0                  24.1                  69            249.58          66.76   \n",
              "1                  22.5                 180            248.08          52.14   \n",
              "2                  20.1                 101            302.63          45.40   \n",
              "3                  17.2                  79            313.31          23.20   \n",
              "4                  12.2                 190            347.04          10.98   \n",
              "..                  ...                 ...               ...            ...   \n",
              "151                12.0                 135            352.77          17.16   \n",
              "152                14.1                  80            351.17          23.76   \n",
              "153                16.9                 269            350.13          34.35   \n",
              "154                21.2                 128            341.82          56.96   \n",
              "155                22.8                 179            336.25          60.49   \n",
              "\n",
              "     LeafAreaIndex  NetPrimaryProductivity  \n",
              "0             6.28                   128.8  \n",
              "1             5.94                   105.3  \n",
              "2             5.45                   103.0  \n",
              "3             3.99                    57.0  \n",
              "4             3.55                    32.5  \n",
              "..             ...                     ...  \n",
              "151           5.98                    62.0  \n",
              "152           5.79                    88.1  \n",
              "153           5.53                   114.5  \n",
              "154           5.20                   140.5  \n",
              "155           4.73                   131.0  \n",
              "\n",
              "[156 rows x 6 columns]"
            ],
            "text/html": [
              "\n",
              "  <div id=\"df-3c67f2ee-c487-42e9-8399-fcbb924f713b\">\n",
              "    <div class=\"colab-df-container\">\n",
              "      <div>\n",
              "<style scoped>\n",
              "    .dataframe tbody tr th:only-of-type {\n",
              "        vertical-align: middle;\n",
              "    }\n",
              "\n",
              "    .dataframe tbody tr th {\n",
              "        vertical-align: top;\n",
              "    }\n",
              "\n",
              "    .dataframe thead th {\n",
              "        text-align: right;\n",
              "    }\n",
              "</style>\n",
              "<table border=\"1\" class=\"dataframe\">\n",
              "  <thead>\n",
              "    <tr style=\"text-align: right;\">\n",
              "      <th></th>\n",
              "      <th>AverageTemperature</th>\n",
              "      <th>TotalPrecipitation</th>\n",
              "      <th>SoilWaterContent</th>\n",
              "      <th>Transpiration</th>\n",
              "      <th>LeafAreaIndex</th>\n",
              "      <th>NetPrimaryProductivity</th>\n",
              "    </tr>\n",
              "  </thead>\n",
              "  <tbody>\n",
              "    <tr>\n",
              "      <th>0</th>\n",
              "      <td>24.1</td>\n",
              "      <td>69</td>\n",
              "      <td>249.58</td>\n",
              "      <td>66.76</td>\n",
              "      <td>6.28</td>\n",
              "      <td>128.8</td>\n",
              "    </tr>\n",
              "    <tr>\n",
              "      <th>1</th>\n",
              "      <td>22.5</td>\n",
              "      <td>180</td>\n",
              "      <td>248.08</td>\n",
              "      <td>52.14</td>\n",
              "      <td>5.94</td>\n",
              "      <td>105.3</td>\n",
              "    </tr>\n",
              "    <tr>\n",
              "      <th>2</th>\n",
              "      <td>20.1</td>\n",
              "      <td>101</td>\n",
              "      <td>302.63</td>\n",
              "      <td>45.40</td>\n",
              "      <td>5.45</td>\n",
              "      <td>103.0</td>\n",
              "    </tr>\n",
              "    <tr>\n",
              "      <th>3</th>\n",
              "      <td>17.2</td>\n",
              "      <td>79</td>\n",
              "      <td>313.31</td>\n",
              "      <td>23.20</td>\n",
              "      <td>3.99</td>\n",
              "      <td>57.0</td>\n",
              "    </tr>\n",
              "    <tr>\n",
              "      <th>4</th>\n",
              "      <td>12.2</td>\n",
              "      <td>190</td>\n",
              "      <td>347.04</td>\n",
              "      <td>10.98</td>\n",
              "      <td>3.55</td>\n",
              "      <td>32.5</td>\n",
              "    </tr>\n",
              "    <tr>\n",
              "      <th>...</th>\n",
              "      <td>...</td>\n",
              "      <td>...</td>\n",
              "      <td>...</td>\n",
              "      <td>...</td>\n",
              "      <td>...</td>\n",
              "      <td>...</td>\n",
              "    </tr>\n",
              "    <tr>\n",
              "      <th>151</th>\n",
              "      <td>12.0</td>\n",
              "      <td>135</td>\n",
              "      <td>352.77</td>\n",
              "      <td>17.16</td>\n",
              "      <td>5.98</td>\n",
              "      <td>62.0</td>\n",
              "    </tr>\n",
              "    <tr>\n",
              "      <th>152</th>\n",
              "      <td>14.1</td>\n",
              "      <td>80</td>\n",
              "      <td>351.17</td>\n",
              "      <td>23.76</td>\n",
              "      <td>5.79</td>\n",
              "      <td>88.1</td>\n",
              "    </tr>\n",
              "    <tr>\n",
              "      <th>153</th>\n",
              "      <td>16.9</td>\n",
              "      <td>269</td>\n",
              "      <td>350.13</td>\n",
              "      <td>34.35</td>\n",
              "      <td>5.53</td>\n",
              "      <td>114.5</td>\n",
              "    </tr>\n",
              "    <tr>\n",
              "      <th>154</th>\n",
              "      <td>21.2</td>\n",
              "      <td>128</td>\n",
              "      <td>341.82</td>\n",
              "      <td>56.96</td>\n",
              "      <td>5.20</td>\n",
              "      <td>140.5</td>\n",
              "    </tr>\n",
              "    <tr>\n",
              "      <th>155</th>\n",
              "      <td>22.8</td>\n",
              "      <td>179</td>\n",
              "      <td>336.25</td>\n",
              "      <td>60.49</td>\n",
              "      <td>4.73</td>\n",
              "      <td>131.0</td>\n",
              "    </tr>\n",
              "  </tbody>\n",
              "</table>\n",
              "<p>156 rows × 6 columns</p>\n",
              "</div>\n",
              "      <button class=\"colab-df-convert\" onclick=\"convertToInteractive('df-3c67f2ee-c487-42e9-8399-fcbb924f713b')\"\n",
              "              title=\"Convert this dataframe to an interactive table.\"\n",
              "              style=\"display:none;\">\n",
              "        \n",
              "  <svg xmlns=\"http://www.w3.org/2000/svg\" height=\"24px\"viewBox=\"0 0 24 24\"\n",
              "       width=\"24px\">\n",
              "    <path d=\"M0 0h24v24H0V0z\" fill=\"none\"/>\n",
              "    <path d=\"M18.56 5.44l.94 2.06.94-2.06 2.06-.94-2.06-.94-.94-2.06-.94 2.06-2.06.94zm-11 1L8.5 8.5l.94-2.06 2.06-.94-2.06-.94L8.5 2.5l-.94 2.06-2.06.94zm10 10l.94 2.06.94-2.06 2.06-.94-2.06-.94-.94-2.06-.94 2.06-2.06.94z\"/><path d=\"M17.41 7.96l-1.37-1.37c-.4-.4-.92-.59-1.43-.59-.52 0-1.04.2-1.43.59L10.3 9.45l-7.72 7.72c-.78.78-.78 2.05 0 2.83L4 21.41c.39.39.9.59 1.41.59.51 0 1.02-.2 1.41-.59l7.78-7.78 2.81-2.81c.8-.78.8-2.07 0-2.86zM5.41 20L4 18.59l7.72-7.72 1.47 1.35L5.41 20z\"/>\n",
              "  </svg>\n",
              "      </button>\n",
              "      \n",
              "  <style>\n",
              "    .colab-df-container {\n",
              "      display:flex;\n",
              "      flex-wrap:wrap;\n",
              "      gap: 12px;\n",
              "    }\n",
              "\n",
              "    .colab-df-convert {\n",
              "      background-color: #E8F0FE;\n",
              "      border: none;\n",
              "      border-radius: 50%;\n",
              "      cursor: pointer;\n",
              "      display: none;\n",
              "      fill: #1967D2;\n",
              "      height: 32px;\n",
              "      padding: 0 0 0 0;\n",
              "      width: 32px;\n",
              "    }\n",
              "\n",
              "    .colab-df-convert:hover {\n",
              "      background-color: #E2EBFA;\n",
              "      box-shadow: 0px 1px 2px rgba(60, 64, 67, 0.3), 0px 1px 3px 1px rgba(60, 64, 67, 0.15);\n",
              "      fill: #174EA6;\n",
              "    }\n",
              "\n",
              "    [theme=dark] .colab-df-convert {\n",
              "      background-color: #3B4455;\n",
              "      fill: #D2E3FC;\n",
              "    }\n",
              "\n",
              "    [theme=dark] .colab-df-convert:hover {\n",
              "      background-color: #434B5C;\n",
              "      box-shadow: 0px 1px 3px 1px rgba(0, 0, 0, 0.15);\n",
              "      filter: drop-shadow(0px 1px 2px rgba(0, 0, 0, 0.3));\n",
              "      fill: #FFFFFF;\n",
              "    }\n",
              "  </style>\n",
              "\n",
              "      <script>\n",
              "        const buttonEl =\n",
              "          document.querySelector('#df-3c67f2ee-c487-42e9-8399-fcbb924f713b button.colab-df-convert');\n",
              "        buttonEl.style.display =\n",
              "          google.colab.kernel.accessAllowed ? 'block' : 'none';\n",
              "\n",
              "        async function convertToInteractive(key) {\n",
              "          const element = document.querySelector('#df-3c67f2ee-c487-42e9-8399-fcbb924f713b');\n",
              "          const dataTable =\n",
              "            await google.colab.kernel.invokeFunction('convertToInteractive',\n",
              "                                                     [key], {});\n",
              "          if (!dataTable) return;\n",
              "\n",
              "          const docLinkHtml = 'Like what you see? Visit the ' +\n",
              "            '<a target=\"_blank\" href=https://colab.research.google.com/notebooks/data_table.ipynb>data table notebook</a>'\n",
              "            + ' to learn more about interactive tables.';\n",
              "          element.innerHTML = '';\n",
              "          dataTable['output_type'] = 'display_data';\n",
              "          await google.colab.output.renderOutput(dataTable, element);\n",
              "          const docLink = document.createElement('div');\n",
              "          docLink.innerHTML = docLinkHtml;\n",
              "          element.appendChild(docLink);\n",
              "        }\n",
              "      </script>\n",
              "    </div>\n",
              "  </div>\n",
              "  "
            ]
          },
          "metadata": {},
          "execution_count": 21
        }
      ],
      "source": [
        "X=df[['AverageTemperature','TotalPrecipitation','SoilWaterContent','Transpiration','LeafAreaIndex','NetPrimaryProductivity']]\n",
        "X\n"
      ]
    },
    {
      "cell_type": "code",
      "execution_count": null,
      "metadata": {
        "id": "4J1ZRkZ9C8CJ"
      },
      "outputs": [],
      "source": [
        "X_train, X_test, y_train, y_test = train_test_split(X, y, test_size=0.33)"
      ]
    },
    {
      "cell_type": "code",
      "execution_count": null,
      "metadata": {
        "colab": {
          "base_uri": "https://localhost:8080/"
        },
        "id": "gvSvGVFAC8CK",
        "outputId": "5ab9967a-b6b9-42e4-efc8-613341995f5c"
      },
      "outputs": [
        {
          "output_type": "execute_result",
          "data": {
            "text/plain": [
              "LinearRegression()"
            ]
          },
          "metadata": {},
          "execution_count": 23
        }
      ],
      "source": [
        "# importing module\n",
        "from sklearn.linear_model import LinearRegression\n",
        "\n",
        "# creating an object of LinearRegression class\n",
        "LR = LinearRegression()\n",
        "# fitting the training data\n",
        "LR.fit(X_train,y_train)"
      ]
    },
    {
      "cell_type": "code",
      "execution_count": null,
      "metadata": {
        "colab": {
          "base_uri": "https://localhost:8080/"
        },
        "id": "NMXfPHYjC8CL",
        "outputId": "00ae340f-8c88-443f-fdc7-a3d7e7c0ebe4"
      },
      "outputs": [
        {
          "output_type": "execute_result",
          "data": {
            "text/plain": [
              "array([[ 16.26209848],\n",
              "       [ 39.92889819],\n",
              "       [112.78712037],\n",
              "       [120.2279668 ],\n",
              "       [ 89.85215827],\n",
              "       [ 13.99914304],\n",
              "       [ 95.75145369],\n",
              "       [ 23.96697725],\n",
              "       [133.25393302],\n",
              "       [120.44366892],\n",
              "       [ 70.52894647],\n",
              "       [ 46.50611914],\n",
              "       [ 29.09337409],\n",
              "       [ 18.16230012],\n",
              "       [107.48149014],\n",
              "       [ 31.11255477],\n",
              "       [129.29100248],\n",
              "       [ 26.48405581],\n",
              "       [ 28.52688057],\n",
              "       [ 17.91865583],\n",
              "       [103.64367268],\n",
              "       [ 41.10798218],\n",
              "       [ 47.55044084],\n",
              "       [ 68.28528973],\n",
              "       [ 83.72845051],\n",
              "       [ 18.75818997],\n",
              "       [ 19.51434337],\n",
              "       [ 15.87357881],\n",
              "       [ 42.6059899 ],\n",
              "       [ 21.25736997],\n",
              "       [ 89.60405827],\n",
              "       [ 67.74205166],\n",
              "       [ 58.05416877],\n",
              "       [ 87.92121249],\n",
              "       [111.67095196],\n",
              "       [ 85.36670388],\n",
              "       [ 81.86814672],\n",
              "       [110.98125914],\n",
              "       [ 49.97011568],\n",
              "       [ 29.68425523],\n",
              "       [ 77.11964319],\n",
              "       [ 42.54316539],\n",
              "       [ 62.40712133],\n",
              "       [ 15.17428145],\n",
              "       [ 33.81397534],\n",
              "       [ 48.57978505],\n",
              "       [ 21.64702727],\n",
              "       [ 20.68659673],\n",
              "       [105.27888532],\n",
              "       [ 71.77572646],\n",
              "       [ 16.49144243],\n",
              "       [ 26.07982771]])"
            ]
          },
          "metadata": {},
          "execution_count": 24
        }
      ],
      "source": [
        "y_prediction =  LR.predict(X_test)\n",
        "y_prediction"
      ]
    },
    {
      "cell_type": "code",
      "execution_count": null,
      "metadata": {
        "colab": {
          "base_uri": "https://localhost:8080/"
        },
        "id": "1YvOjOCGC8CL",
        "outputId": "7ff7c889-4353-46dc-817a-855ec3701077"
      },
      "outputs": [
        {
          "output_type": "stream",
          "name": "stdout",
          "text": [
            "Mean absolute error: 49.02\n",
            "Residual sum of squares (MSE): 3595.13\n",
            "R2-score: -1.39\n"
          ]
        }
      ],
      "source": [
        "print(\"Mean absolute error: %.2f\" % np.mean(np.absolute(test_y_-y_test)))\n",
        "print(\"Residual sum of squares (MSE): %.2f\" % np.mean((test_y_-y_test)**2))\n",
        "print(\"R2-score: %.2f\" % r2_score(test_y_,y_test))"
      ]
    }
  ],
  "metadata": {
    "kernelspec": {
      "display_name": "Python 3",
      "language": "python",
      "name": "python3"
    },
    "language_info": {
      "codemirror_mode": {
        "name": "ipython",
        "version": 3
      },
      "file_extension": ".py",
      "mimetype": "text/x-python",
      "name": "python",
      "nbconvert_exporter": "python",
      "pygments_lexer": "ipython3",
      "version": "3.8.5"
    },
    "colab": {
      "provenance": [],
      "toc_visible": true,
      "include_colab_link": true
    }
  },
  "nbformat": 4,
  "nbformat_minor": 0
}